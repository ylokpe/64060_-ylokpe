{
 "cells": [
  {
   "cell_type": "markdown",
   "id": "515387bb",
   "metadata": {},
   "source": [
    "# Importing Packages"
   ]
  },
  {
   "cell_type": "code",
   "execution_count": 1,
   "id": "ec109e5e",
   "metadata": {},
   "outputs": [],
   "source": [
    "%matplotlib inline\n",
    "import pandas as pd\n",
    "import numpy as np\n",
    "import matplotlib.pylab as plt\n",
    "from pathlib import Path\n",
    "from sklearn import metrics \n",
    "from sklearn.metrics import classification_report, confusion_matrix\n",
    "from sklearn import preprocessing\n",
    "from sklearn.model_selection import train_test_split\n",
    "from sklearn.metrics import accuracy_score\n",
    "from sklearn.neighbors import NearestNeighbors, KNeighborsClassifier\n",
    "from sklearn.preprocessing import StandardScaler\n"
   ]
  },
  {
   "cell_type": "markdown",
   "id": "713f3d48",
   "metadata": {},
   "source": [
    "# Reading the file and removing the not required columns (ID, ZIP code)"
   ]
  },
  {
   "cell_type": "code",
   "execution_count": 2,
   "id": "e2618527",
   "metadata": {},
   "outputs": [
    {
     "data": {
      "text/html": [
       "<div>\n",
       "<style scoped>\n",
       "    .dataframe tbody tr th:only-of-type {\n",
       "        vertical-align: middle;\n",
       "    }\n",
       "\n",
       "    .dataframe tbody tr th {\n",
       "        vertical-align: top;\n",
       "    }\n",
       "\n",
       "    .dataframe thead th {\n",
       "        text-align: right;\n",
       "    }\n",
       "</style>\n",
       "<table border=\"1\" class=\"dataframe\">\n",
       "  <thead>\n",
       "    <tr style=\"text-align: right;\">\n",
       "      <th></th>\n",
       "      <th>Age</th>\n",
       "      <th>Experience</th>\n",
       "      <th>Income</th>\n",
       "      <th>Family</th>\n",
       "      <th>CCAvg</th>\n",
       "      <th>Education</th>\n",
       "      <th>Mortgage</th>\n",
       "      <th>Personal Loan</th>\n",
       "      <th>Securities Account</th>\n",
       "      <th>CD Account</th>\n",
       "      <th>Online</th>\n",
       "      <th>CreditCard</th>\n",
       "    </tr>\n",
       "  </thead>\n",
       "  <tbody>\n",
       "    <tr>\n",
       "      <th>0</th>\n",
       "      <td>25</td>\n",
       "      <td>1</td>\n",
       "      <td>49</td>\n",
       "      <td>4</td>\n",
       "      <td>1.6</td>\n",
       "      <td>1</td>\n",
       "      <td>0</td>\n",
       "      <td>0</td>\n",
       "      <td>1</td>\n",
       "      <td>0</td>\n",
       "      <td>0</td>\n",
       "      <td>0</td>\n",
       "    </tr>\n",
       "    <tr>\n",
       "      <th>1</th>\n",
       "      <td>45</td>\n",
       "      <td>19</td>\n",
       "      <td>34</td>\n",
       "      <td>3</td>\n",
       "      <td>1.5</td>\n",
       "      <td>1</td>\n",
       "      <td>0</td>\n",
       "      <td>0</td>\n",
       "      <td>1</td>\n",
       "      <td>0</td>\n",
       "      <td>0</td>\n",
       "      <td>0</td>\n",
       "    </tr>\n",
       "    <tr>\n",
       "      <th>2</th>\n",
       "      <td>39</td>\n",
       "      <td>15</td>\n",
       "      <td>11</td>\n",
       "      <td>1</td>\n",
       "      <td>1.0</td>\n",
       "      <td>1</td>\n",
       "      <td>0</td>\n",
       "      <td>0</td>\n",
       "      <td>0</td>\n",
       "      <td>0</td>\n",
       "      <td>0</td>\n",
       "      <td>0</td>\n",
       "    </tr>\n",
       "    <tr>\n",
       "      <th>3</th>\n",
       "      <td>35</td>\n",
       "      <td>9</td>\n",
       "      <td>100</td>\n",
       "      <td>1</td>\n",
       "      <td>2.7</td>\n",
       "      <td>2</td>\n",
       "      <td>0</td>\n",
       "      <td>0</td>\n",
       "      <td>0</td>\n",
       "      <td>0</td>\n",
       "      <td>0</td>\n",
       "      <td>0</td>\n",
       "    </tr>\n",
       "    <tr>\n",
       "      <th>4</th>\n",
       "      <td>35</td>\n",
       "      <td>8</td>\n",
       "      <td>45</td>\n",
       "      <td>4</td>\n",
       "      <td>1.0</td>\n",
       "      <td>2</td>\n",
       "      <td>0</td>\n",
       "      <td>0</td>\n",
       "      <td>0</td>\n",
       "      <td>0</td>\n",
       "      <td>0</td>\n",
       "      <td>1</td>\n",
       "    </tr>\n",
       "    <tr>\n",
       "      <th>5</th>\n",
       "      <td>37</td>\n",
       "      <td>13</td>\n",
       "      <td>29</td>\n",
       "      <td>4</td>\n",
       "      <td>0.4</td>\n",
       "      <td>2</td>\n",
       "      <td>155</td>\n",
       "      <td>0</td>\n",
       "      <td>0</td>\n",
       "      <td>0</td>\n",
       "      <td>1</td>\n",
       "      <td>0</td>\n",
       "    </tr>\n",
       "  </tbody>\n",
       "</table>\n",
       "</div>"
      ],
      "text/plain": [
       "   Age  Experience  Income  Family  CCAvg  Education  Mortgage  Personal Loan  \\\n",
       "0   25           1      49       4    1.6          1         0              0   \n",
       "1   45          19      34       3    1.5          1         0              0   \n",
       "2   39          15      11       1    1.0          1         0              0   \n",
       "3   35           9     100       1    2.7          2         0              0   \n",
       "4   35           8      45       4    1.0          2         0              0   \n",
       "5   37          13      29       4    0.4          2       155              0   \n",
       "\n",
       "   Securities Account  CD Account  Online  CreditCard  \n",
       "0                   1           0       0           0  \n",
       "1                   1           0       0           0  \n",
       "2                   0           0       0           0  \n",
       "3                   0           0       0           0  \n",
       "4                   0           0       0           1  \n",
       "5                   0           0       1           0  "
      ]
     },
     "execution_count": 2,
     "metadata": {},
     "output_type": "execute_result"
    }
   ],
   "source": [
    "univ_df = pd.read_csv('UniversalBank.csv')\n",
    "univ_df = univ_df.drop(columns=['ID','ZIP Code'])\n",
    "univ_df.head(6)"
   ]
  },
  {
   "cell_type": "markdown",
   "id": "7b50d044",
   "metadata": {},
   "source": [
    "# Renaming the columns"
   ]
  },
  {
   "cell_type": "code",
   "execution_count": 3,
   "id": "84f49a9b",
   "metadata": {},
   "outputs": [
    {
     "data": {
      "text/plain": [
       "['Age',\n",
       " 'Experience',\n",
       " 'Income',\n",
       " 'Family',\n",
       " 'CCAvg',\n",
       " 'Education',\n",
       " 'Mortgage',\n",
       " 'Personal_Loan',\n",
       " 'Securities_Account',\n",
       " 'CD_Account',\n",
       " 'Online',\n",
       " 'CreditCard']"
      ]
     },
     "execution_count": 3,
     "metadata": {},
     "output_type": "execute_result"
    }
   ],
   "source": [
    "univ_df.columns = [c.replace(' ','_').replace('=','_') for c in univ_df.columns]\n",
    "list(univ_df.columns)"
   ]
  },
  {
   "cell_type": "markdown",
   "id": "32574a91",
   "metadata": {},
   "source": [
    "# Creating dummy variables for categorical columns"
   ]
  },
  {
   "cell_type": "code",
   "execution_count": 4,
   "id": "dbb89186",
   "metadata": {},
   "outputs": [
    {
     "data": {
      "text/plain": [
       "0    1\n",
       "1    1\n",
       "2    1\n",
       "3    2\n",
       "4    2\n",
       "5    2\n",
       "6    2\n",
       "7    3\n",
       "8    2\n",
       "Name: Education, dtype: int64"
      ]
     },
     "execution_count": 4,
     "metadata": {},
     "output_type": "execute_result"
    }
   ],
   "source": [
    "x= univ_df['Education']\n",
    "x.head(9)"
   ]
  },
  {
   "cell_type": "code",
   "execution_count": 5,
   "id": "1d8efc9c",
   "metadata": {},
   "outputs": [
    {
     "data": {
      "text/html": [
       "<div>\n",
       "<style scoped>\n",
       "    .dataframe tbody tr th:only-of-type {\n",
       "        vertical-align: middle;\n",
       "    }\n",
       "\n",
       "    .dataframe tbody tr th {\n",
       "        vertical-align: top;\n",
       "    }\n",
       "\n",
       "    .dataframe thead th {\n",
       "        text-align: right;\n",
       "    }\n",
       "</style>\n",
       "<table border=\"1\" class=\"dataframe\">\n",
       "  <thead>\n",
       "    <tr style=\"text-align: right;\">\n",
       "      <th></th>\n",
       "      <th>Age</th>\n",
       "      <th>Experience</th>\n",
       "      <th>Income</th>\n",
       "      <th>Family</th>\n",
       "      <th>CCAvg</th>\n",
       "      <th>Mortgage</th>\n",
       "      <th>Personal_Loan</th>\n",
       "      <th>Securities_Account</th>\n",
       "      <th>CD_Account</th>\n",
       "      <th>Online</th>\n",
       "      <th>CreditCard</th>\n",
       "      <th>Education_1</th>\n",
       "      <th>Education_2</th>\n",
       "      <th>Education_3</th>\n",
       "    </tr>\n",
       "  </thead>\n",
       "  <tbody>\n",
       "    <tr>\n",
       "      <th>0</th>\n",
       "      <td>25</td>\n",
       "      <td>1</td>\n",
       "      <td>49</td>\n",
       "      <td>4</td>\n",
       "      <td>1.6</td>\n",
       "      <td>0</td>\n",
       "      <td>0</td>\n",
       "      <td>1</td>\n",
       "      <td>0</td>\n",
       "      <td>0</td>\n",
       "      <td>0</td>\n",
       "      <td>1</td>\n",
       "      <td>0</td>\n",
       "      <td>0</td>\n",
       "    </tr>\n",
       "    <tr>\n",
       "      <th>1</th>\n",
       "      <td>45</td>\n",
       "      <td>19</td>\n",
       "      <td>34</td>\n",
       "      <td>3</td>\n",
       "      <td>1.5</td>\n",
       "      <td>0</td>\n",
       "      <td>0</td>\n",
       "      <td>1</td>\n",
       "      <td>0</td>\n",
       "      <td>0</td>\n",
       "      <td>0</td>\n",
       "      <td>1</td>\n",
       "      <td>0</td>\n",
       "      <td>0</td>\n",
       "    </tr>\n",
       "    <tr>\n",
       "      <th>2</th>\n",
       "      <td>39</td>\n",
       "      <td>15</td>\n",
       "      <td>11</td>\n",
       "      <td>1</td>\n",
       "      <td>1.0</td>\n",
       "      <td>0</td>\n",
       "      <td>0</td>\n",
       "      <td>0</td>\n",
       "      <td>0</td>\n",
       "      <td>0</td>\n",
       "      <td>0</td>\n",
       "      <td>1</td>\n",
       "      <td>0</td>\n",
       "      <td>0</td>\n",
       "    </tr>\n",
       "    <tr>\n",
       "      <th>3</th>\n",
       "      <td>35</td>\n",
       "      <td>9</td>\n",
       "      <td>100</td>\n",
       "      <td>1</td>\n",
       "      <td>2.7</td>\n",
       "      <td>0</td>\n",
       "      <td>0</td>\n",
       "      <td>0</td>\n",
       "      <td>0</td>\n",
       "      <td>0</td>\n",
       "      <td>0</td>\n",
       "      <td>0</td>\n",
       "      <td>1</td>\n",
       "      <td>0</td>\n",
       "    </tr>\n",
       "    <tr>\n",
       "      <th>4</th>\n",
       "      <td>35</td>\n",
       "      <td>8</td>\n",
       "      <td>45</td>\n",
       "      <td>4</td>\n",
       "      <td>1.0</td>\n",
       "      <td>0</td>\n",
       "      <td>0</td>\n",
       "      <td>0</td>\n",
       "      <td>0</td>\n",
       "      <td>0</td>\n",
       "      <td>1</td>\n",
       "      <td>0</td>\n",
       "      <td>1</td>\n",
       "      <td>0</td>\n",
       "    </tr>\n",
       "  </tbody>\n",
       "</table>\n",
       "</div>"
      ],
      "text/plain": [
       "   Age  Experience  Income  Family  CCAvg  Mortgage  Personal_Loan  \\\n",
       "0   25           1      49       4    1.6         0              0   \n",
       "1   45          19      34       3    1.5         0              0   \n",
       "2   39          15      11       1    1.0         0              0   \n",
       "3   35           9     100       1    2.7         0              0   \n",
       "4   35           8      45       4    1.0         0              0   \n",
       "\n",
       "   Securities_Account  CD_Account  Online  CreditCard  Education_1  \\\n",
       "0                   1           0       0           0            1   \n",
       "1                   1           0       0           0            1   \n",
       "2                   0           0       0           0            1   \n",
       "3                   0           0       0           0            0   \n",
       "4                   0           0       0           1            0   \n",
       "\n",
       "   Education_2  Education_3  \n",
       "0            0            0  \n",
       "1            0            0  \n",
       "2            0            0  \n",
       "3            1            0  \n",
       "4            1            0  "
      ]
     },
     "execution_count": 5,
     "metadata": {},
     "output_type": "execute_result"
    }
   ],
   "source": [
    "univ_df['Education'] = univ_df['Education'].astype('category')\n",
    "univ_df = pd.get_dummies(univ_df, prefix_sep='_', drop_first=False)\n",
    "univ_df.head()"
   ]
  },
  {
   "cell_type": "markdown",
   "id": "92abdf16",
   "metadata": {},
   "source": [
    "# Splitting dataset among training(60%) and validation (40%) data"
   ]
  },
  {
   "cell_type": "code",
   "execution_count": 6,
   "id": "dcba1518",
   "metadata": {},
   "outputs": [
    {
     "name": "stdout",
     "output_type": "stream",
     "text": [
      "Training Data - (3000, 14)\n",
      "Validation Data - (2000, 14)\n"
     ]
    }
   ],
   "source": [
    "train_df, valid_df = train_test_split(univ_df, test_size = 0.4, random_state=1)\n",
    "print('Training Data -', train_df.shape)\n",
    "print('Validation Data -', valid_df.shape)"
   ]
  },
  {
   "cell_type": "markdown",
   "id": "f4f4b45d",
   "metadata": {},
   "source": [
    "# Defining new data frame for which k-NN prediction need to be done"
   ]
  },
  {
   "cell_type": "code",
   "execution_count": 7,
   "id": "6950a961",
   "metadata": {},
   "outputs": [
    {
     "data": {
      "text/html": [
       "<div>\n",
       "<style scoped>\n",
       "    .dataframe tbody tr th:only-of-type {\n",
       "        vertical-align: middle;\n",
       "    }\n",
       "\n",
       "    .dataframe tbody tr th {\n",
       "        vertical-align: top;\n",
       "    }\n",
       "\n",
       "    .dataframe thead th {\n",
       "        text-align: right;\n",
       "    }\n",
       "</style>\n",
       "<table border=\"1\" class=\"dataframe\">\n",
       "  <thead>\n",
       "    <tr style=\"text-align: right;\">\n",
       "      <th></th>\n",
       "      <th>Age</th>\n",
       "      <th>Experience</th>\n",
       "      <th>Income</th>\n",
       "      <th>Family</th>\n",
       "      <th>CCAvg</th>\n",
       "      <th>Education_1</th>\n",
       "      <th>Education_2</th>\n",
       "      <th>Education_3</th>\n",
       "      <th>Mortgage</th>\n",
       "      <th>Securities Account</th>\n",
       "      <th>CD Account</th>\n",
       "      <th>Online</th>\n",
       "      <th>CreditCard</th>\n",
       "    </tr>\n",
       "  </thead>\n",
       "  <tbody>\n",
       "    <tr>\n",
       "      <th>0</th>\n",
       "      <td>40</td>\n",
       "      <td>10</td>\n",
       "      <td>84</td>\n",
       "      <td>2</td>\n",
       "      <td>2</td>\n",
       "      <td>0</td>\n",
       "      <td>1</td>\n",
       "      <td>0</td>\n",
       "      <td>0</td>\n",
       "      <td>0</td>\n",
       "      <td>0</td>\n",
       "      <td>1</td>\n",
       "      <td>1</td>\n",
       "    </tr>\n",
       "  </tbody>\n",
       "</table>\n",
       "</div>"
      ],
      "text/plain": [
       "   Age  Experience  Income  Family  CCAvg  Education_1  Education_2  \\\n",
       "0   40          10      84       2      2            0            1   \n",
       "\n",
       "   Education_3  Mortgage  Securities Account  CD Account  Online  CreditCard  \n",
       "0            0         0                   0           0       1           1  "
      ]
     },
     "execution_count": 7,
     "metadata": {},
     "output_type": "execute_result"
    }
   ],
   "source": [
    "new_univ = pd.DataFrame([{'Age': 40,'Experience': 10,'Income': 84,'Family': 2,'CCAvg': 2,'Education_1': 0,'Education_2': 1,'Education_3': 0,'Mortgage': 0,'Securities Account': 0,'CD Account': 0,'Online': 1,'CreditCard': 1}])\n",
    "new_univ"
   ]
  },
  {
   "cell_type": "markdown",
   "id": "7e2865ab",
   "metadata": {},
   "source": [
    "# Normalization and Removing target column"
   ]
  },
  {
   "cell_type": "code",
   "execution_count": 8,
   "id": "97ef6ce3",
   "metadata": {},
   "outputs": [
    {
     "name": "stdout",
     "output_type": "stream",
     "text": [
      "['Age', 'Experience', 'Income', 'Family', 'CCAvg', 'Mortgage', 'Securities_Account', 'CD_Account', 'Online', 'CreditCard', 'Education_1', 'Education_2', 'Education_3']\n"
     ]
    }
   ],
   "source": [
    "predictors = list(univ_df.columns)\n",
    "outcome = 'Personal_Loan'\n",
    "predictors.remove(outcome)\n",
    "print(predictors)"
   ]
  },
  {
   "cell_type": "markdown",
   "id": "c9f3e593",
   "metadata": {},
   "source": [
    "# Preprocessing"
   ]
  },
  {
   "cell_type": "code",
   "execution_count": 9,
   "id": "f80a4209",
   "metadata": {},
   "outputs": [
    {
     "data": {
      "text/plain": [
       "StandardScaler()"
      ]
     },
     "execution_count": 9,
     "metadata": {},
     "output_type": "execute_result"
    }
   ],
   "source": [
    "Scaler = preprocessing.StandardScaler()\n",
    "Scaler.fit(train_df[predictors])"
   ]
  },
  {
   "cell_type": "code",
   "execution_count": 10,
   "id": "65ebb513",
   "metadata": {},
   "outputs": [
    {
     "name": "stdout",
     "output_type": "stream",
     "text": [
      "        Age  Experience    Income    Family     CCAvg  Mortgage  \\\n",
      "0 -0.486446   -0.901063  0.220892 -0.352127  0.035689 -0.559242   \n",
      "\n",
      "   Securities_Account  CD_Account    Online  CreditCard  Education_1  \\\n",
      "0             2.96714   -0.252646 -1.198767     -0.6505    -0.838795   \n",
      "\n",
      "   Education_2  Education_3  \n",
      "0     1.591719     1.513101  \n"
     ]
    }
   ],
   "source": [
    "train_x = Scaler.transform(train_df[predictors])\n",
    "train_y = train_df[outcome]\n",
    "valid_x = Scaler.transform(valid_df[predictors])\n",
    "valid_y = valid_df[outcome]\n",
    "new_univ_Norm = pd.DataFrame(Scaler.transform(new_univ),columns=['Age','Experience','Income','Family','CCAvg','Mortgage','Securities_Account','CD_Account','Online','CreditCard','Education_1','Education_2','Education_3'])\n",
    "print(new_univ_Norm)"
   ]
  },
  {
   "cell_type": "markdown",
   "id": "b7fe6f42",
   "metadata": {},
   "source": [
    "# lets train the k-NN algorithm with K value = 1"
   ]
  },
  {
   "cell_type": "code",
   "execution_count": 11,
   "id": "505bf0d0",
   "metadata": {},
   "outputs": [
    {
     "data": {
      "text/plain": [
       "KNeighborsClassifier(n_neighbors=1)"
      ]
     },
     "execution_count": 11,
     "metadata": {},
     "output_type": "execute_result"
    }
   ],
   "source": [
    "classifier = KNeighborsClassifier(n_neighbors=1)\n",
    "classifier.fit(train_x, train_y)"
   ]
  },
  {
   "cell_type": "markdown",
   "id": "18fd06da",
   "metadata": {},
   "source": [
    "# lets predict the performance and outcome of k-NN algorithm"
   ]
  },
  {
   "cell_type": "code",
   "execution_count": 12,
   "id": "2c3939ee",
   "metadata": {},
   "outputs": [
    {
     "name": "stdout",
     "output_type": "stream",
     "text": [
      "[0]\n"
     ]
    }
   ],
   "source": [
    "print(classifier.predict(new_univ_Norm))"
   ]
  },
  {
   "cell_type": "code",
   "execution_count": 13,
   "id": "1946bafe",
   "metadata": {},
   "outputs": [
    {
     "name": "stdout",
     "output_type": "stream",
     "text": [
      "[[1. 0.]]\n"
     ]
    }
   ],
   "source": [
    "print(classifier.predict_proba(new_univ_Norm))"
   ]
  },
  {
   "cell_type": "markdown",
   "id": "27bc754f",
   "metadata": {},
   "source": [
    "# Using the K-NN algorithm for this dataset, the model predicted that the chance or the probability of personal acceptance is zero. This customer would be classifed as an inegilible for a loan."
   ]
  },
  {
   "cell_type": "markdown",
   "id": "6c05fa5c",
   "metadata": {},
   "source": [
    "# Training the classifier for different values of k"
   ]
  },
  {
   "cell_type": "code",
   "execution_count": 14,
   "id": "153c139a",
   "metadata": {},
   "outputs": [
    {
     "name": "stdout",
     "output_type": "stream",
     "text": [
      "     k  accuracy\n",
      "0    1  1.000000\n",
      "1    2  0.969667\n",
      "2    3  0.976667\n",
      "3    4  0.970667\n",
      "4    5  0.972000\n",
      "5    6  0.965333\n",
      "6    7  0.968667\n",
      "7    8  0.960000\n",
      "8    9  0.964667\n",
      "9   10  0.958333\n",
      "10  11  0.960333\n",
      "11  12  0.956333\n",
      "12  13  0.957667\n",
      "13  14  0.952333\n"
     ]
    }
   ],
   "source": [
    "results = []\n",
    "for k in range(1, 15):\n",
    "    knn = KNeighborsClassifier(n_neighbors=k).fit(train_x, train_y)\n",
    "    results.append({'k': k, 'accuracy': accuracy_score(train_y, knn.predict(train_x))})\n",
    "results = pd.DataFrame(results)\n",
    "print(results)"
   ]
  },
  {
   "cell_type": "markdown",
   "id": "df829ead",
   "metadata": {},
   "source": [
    "# plotting accuracy and K"
   ]
  },
  {
   "cell_type": "code",
   "execution_count": 15,
   "id": "81929ce9",
   "metadata": {},
   "outputs": [
    {
     "data": {
      "image/png": "[encoded data removed]",
      "text/plain": [
       "<Figure size 432x288 with 1 Axes>"
      ]
     },
     "metadata": {
      "needs_background": "light"
     },
     "output_type": "display_data"
    }
   ],
   "source": [
    "p = results.plot.scatter(x='k', y='accuracy', xlim=[0,30])"
   ]
  },
  {
   "cell_type": "markdown",
   "id": "823f431c",
   "metadata": {},
   "source": [
    "# the choice of k that balances between overfitting and ignoring the predictor information is k=5"
   ]
  },
  {
   "cell_type": "markdown",
   "id": "1ce18328",
   "metadata": {},
   "source": [
    "# Confusion matrix for the validation data that results from using the best k"
   ]
  },
  {
   "cell_type": "code",
   "execution_count": 16,
   "id": "fb860237",
   "metadata": {},
   "outputs": [
    {
     "name": "stdout",
     "output_type": "stream",
     "text": [
      "[[1803    4]\n",
      " [  83  110]]\n",
      "Accuracy: 0.9565\n"
     ]
    }
   ],
   "source": [
    "classifier = KNeighborsClassifier(n_neighbors=5)\n",
    "classifier.fit(train_x, train_y)\n",
    "predict_y = classifier.predict(valid_x)\n",
    "print(confusion_matrix(valid_y, predict_y))\n",
    "print('Accuracy:', accuracy_score(valid_y, predict_y))"
   ]
  },
  {
   "cell_type": "markdown",
   "id": "3c8d5a21",
   "metadata": {},
   "source": [
    "# The best k value performs an accuracy value of 0.9565 for the validation data"
   ]
  },
  {
   "cell_type": "markdown",
   "id": "76d983d9",
   "metadata": {},
   "source": [
    "# Classifying the customer using the best k"
   ]
  },
  {
   "cell_type": "code",
   "execution_count": 17,
   "id": "de0a2d57",
   "metadata": {},
   "outputs": [
    {
     "data": {
      "text/plain": [
       "array([[1., 0.]])"
      ]
     },
     "execution_count": 17,
     "metadata": {},
     "output_type": "execute_result"
    }
   ],
   "source": [
    "classifier.predict_proba(new_univ_Norm)"
   ]
  },
  {
   "cell_type": "code",
   "execution_count": 18,
   "id": "e882c6ef",
   "metadata": {},
   "outputs": [
    {
     "name": "stdout",
     "output_type": "stream",
     "text": [
      "[0]\n"
     ]
    }
   ],
   "source": [
    "print(classifier.predict(new_univ_Norm))"
   ]
  },
  {
   "cell_type": "markdown",
   "id": "738bc24a",
   "metadata": {},
   "source": [
    "# this shows that new customer is not allowed to be offered a  loan"
   ]
  },
  {
   "cell_type": "markdown",
   "id": "83338369",
   "metadata": {},
   "source": [
    "# Comparison of the confusion matrix of the test set with that of the training and validation sets"
   ]
  },
  {
   "cell_type": "code",
   "execution_count": 19,
   "id": "64893b21",
   "metadata": {},
   "outputs": [
    {
     "name": "stdout",
     "output_type": "stream",
     "text": [
      "Training dataset (2500, 14)\n",
      "Validation dataset (1500, 14)\n",
      "Test dataset (1000, 14)\n"
     ]
    }
   ],
   "source": [
    "# Splitting the data in training(50%), validation(30%),and test(20%) sets\n",
    "train_df, temp_df = train_test_split(univ_df, test_size=0.5, random_state=1)\n",
    "valid_df, test_df = train_test_split(temp_df, test_size=0.4, random_state=1)\n",
    "print('Training dataset', train_df.shape)\n",
    "print('Validation dataset', valid_df.shape)\n",
    "print('Test dataset', test_df.shape)"
   ]
  },
  {
   "cell_type": "code",
   "execution_count": 20,
   "id": "3850a71f",
   "metadata": {},
   "outputs": [],
   "source": [
    "# Outcomes feature scaling and preprocessing\n",
    "outcome = 'Personal_Loan'\n",
    "predictors = list(univ_df.columns)\n",
    "predictors.remove(outcome)\n",
    "Scaler = preprocessing.StandardScaler()\n",
    "Scaler.fit(train_df[predictors])\n",
    "train_x = Scaler.transform(train_df[predictors])\n",
    "train_y = train_df[outcome]\n",
    "valid_x = Scaler.transform(valid_df[predictors])\n",
    "valid_y = valid_df[outcome]\n",
    "test_x = Scaler.transform(test_df[predictors])\n",
    "test_y = test_df[outcome]"
   ]
  },
  {
   "cell_type": "code",
   "execution_count": 21,
   "id": "7af94d1d",
   "metadata": {},
   "outputs": [
    {
     "data": {
      "text/plain": [
       "KNeighborsClassifier()"
      ]
     },
     "execution_count": 21,
     "metadata": {},
     "output_type": "execute_result"
    }
   ],
   "source": [
    "# fitting the data for the best K value (5)\n",
    "classifier = KNeighborsClassifier(n_neighbors=5)\n",
    "classifier.fit(train_x, train_y)"
   ]
  },
  {
   "cell_type": "code",
   "execution_count": 22,
   "id": "df7d7509",
   "metadata": {},
   "outputs": [
    {
     "name": "stdout",
     "output_type": "stream",
     "text": [
      "[[2255    4]\n",
      " [  75  166]]\n",
      "Accuracy: 0.9684\n"
     ]
    }
   ],
   "source": [
    "#Confusion Matrix for training data\n",
    "knnPredOpt = classifier.predict(train_x)\n",
    "print(confusion_matrix(train_y, knnPredOpt))\n",
    "print('Accuracy:', accuracy_score(train_y, knnPredOpt))"
   ]
  },
  {
   "cell_type": "code",
   "execution_count": 23,
   "id": "afa14320",
   "metadata": {},
   "outputs": [
    {
     "name": "stdout",
     "output_type": "stream",
     "text": [
      "[[1346    3]\n",
      " [  67   84]]\n",
      "Accuracy: 0.9533333333333334\n"
     ]
    }
   ],
   "source": [
    "#Confusion Matrix for Validation Data\n",
    "knnPredict = classifier.predict(valid_x)\n",
    "print(confusion_matrix(valid_y, knnPredict))\n",
    "print('Accuracy:', accuracy_score(valid_y, knnPredict))"
   ]
  },
  {
   "cell_type": "code",
   "execution_count": 24,
   "id": "460dde3c",
   "metadata": {},
   "outputs": [
    {
     "name": "stdout",
     "output_type": "stream",
     "text": [
      "[[907   5]\n",
      " [ 35  53]]\n",
      "Accuracy: 0.96\n"
     ]
    }
   ],
   "source": [
    "#Confusion Matrix for test Dataset\n",
    "knnPredict = classifier.predict(test_x)\n",
    "print(confusion_matrix(test_y, knnPredict))\n",
    "print('Accuracy:', accuracy_score(test_y, knnPredict))"
   ]
  },
  {
   "cell_type": "markdown",
   "id": "2c83385d",
   "metadata": {},
   "source": [
    "# the change of the accuracy is caused by the performance of the prediction on train , test, and validation dataset. Accuracy decreased from performing the validation then increased while performing the test of the dataset"
   ]
  },
  {
   "cell_type": "code",
   "execution_count": null,
   "id": "3913341c",
   "metadata": {},
   "outputs": [],
   "source": []
  }
 ],
 "metadata": {
  "kernelspec": {
   "display_name": "Python 3",
   "language": "python",
   "name": "python3"
  },
  "language_info": {
   "codemirror_mode": {
    "name": "ipython",
    "version": 3
   },
   "file_extension": ".py",
   "mimetype": "text/x-python",
   "name": "python",
   "nbconvert_exporter": "python",
   "pygments_lexer": "ipython3",
   "version": "3.8.8"
  }
 },
 "nbformat": 4,
 "nbformat_minor": 5
}
