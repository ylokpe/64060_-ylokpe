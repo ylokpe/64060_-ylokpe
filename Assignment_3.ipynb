{
 "cells": [
  {
   "cell_type": "markdown",
   "id": "5bf8236f",
   "metadata": {},
   "source": [
    "# Importing Libraries"
   ]
  },
  {
   "cell_type": "code",
   "execution_count": 1,
   "id": "95e80706",
   "metadata": {},
   "outputs": [],
   "source": [
    "%matplotlib inline\n",
    "import pandas as pd\n",
    "import numpy as np\n",
    "import matplotlib.pyplot as plt\n",
    "import seaborn as sns"
   ]
  },
  {
   "cell_type": "markdown",
   "id": "22619f1e",
   "metadata": {},
   "source": [
    "# Importing dataset UniversalBank"
   ]
  },
  {
   "cell_type": "code",
   "execution_count": 2,
   "id": "82432515",
   "metadata": {},
   "outputs": [
    {
     "data": {
      "text/html": [
       "<div>\n",
       "<style scoped>\n",
       "    .dataframe tbody tr th:only-of-type {\n",
       "        vertical-align: middle;\n",
       "    }\n",
       "\n",
       "    .dataframe tbody tr th {\n",
       "        vertical-align: top;\n",
       "    }\n",
       "\n",
       "    .dataframe thead th {\n",
       "        text-align: right;\n",
       "    }\n",
       "</style>\n",
       "<table border=\"1\" class=\"dataframe\">\n",
       "  <thead>\n",
       "    <tr style=\"text-align: right;\">\n",
       "      <th></th>\n",
       "      <th>ID</th>\n",
       "      <th>Age</th>\n",
       "      <th>Experience</th>\n",
       "      <th>Income</th>\n",
       "      <th>ZIP Code</th>\n",
       "      <th>Family</th>\n",
       "      <th>CCAvg</th>\n",
       "      <th>Education</th>\n",
       "      <th>Mortgage</th>\n",
       "      <th>Personal Loan</th>\n",
       "      <th>Securities Account</th>\n",
       "      <th>CD Account</th>\n",
       "      <th>Online</th>\n",
       "      <th>CreditCard</th>\n",
       "    </tr>\n",
       "  </thead>\n",
       "  <tbody>\n",
       "    <tr>\n",
       "      <th>0</th>\n",
       "      <td>1</td>\n",
       "      <td>25</td>\n",
       "      <td>1</td>\n",
       "      <td>49</td>\n",
       "      <td>91107</td>\n",
       "      <td>4</td>\n",
       "      <td>1.6</td>\n",
       "      <td>1</td>\n",
       "      <td>0</td>\n",
       "      <td>0</td>\n",
       "      <td>1</td>\n",
       "      <td>0</td>\n",
       "      <td>0</td>\n",
       "      <td>0</td>\n",
       "    </tr>\n",
       "    <tr>\n",
       "      <th>1</th>\n",
       "      <td>2</td>\n",
       "      <td>45</td>\n",
       "      <td>19</td>\n",
       "      <td>34</td>\n",
       "      <td>90089</td>\n",
       "      <td>3</td>\n",
       "      <td>1.5</td>\n",
       "      <td>1</td>\n",
       "      <td>0</td>\n",
       "      <td>0</td>\n",
       "      <td>1</td>\n",
       "      <td>0</td>\n",
       "      <td>0</td>\n",
       "      <td>0</td>\n",
       "    </tr>\n",
       "    <tr>\n",
       "      <th>2</th>\n",
       "      <td>3</td>\n",
       "      <td>39</td>\n",
       "      <td>15</td>\n",
       "      <td>11</td>\n",
       "      <td>94720</td>\n",
       "      <td>1</td>\n",
       "      <td>1.0</td>\n",
       "      <td>1</td>\n",
       "      <td>0</td>\n",
       "      <td>0</td>\n",
       "      <td>0</td>\n",
       "      <td>0</td>\n",
       "      <td>0</td>\n",
       "      <td>0</td>\n",
       "    </tr>\n",
       "    <tr>\n",
       "      <th>3</th>\n",
       "      <td>4</td>\n",
       "      <td>35</td>\n",
       "      <td>9</td>\n",
       "      <td>100</td>\n",
       "      <td>94112</td>\n",
       "      <td>1</td>\n",
       "      <td>2.7</td>\n",
       "      <td>2</td>\n",
       "      <td>0</td>\n",
       "      <td>0</td>\n",
       "      <td>0</td>\n",
       "      <td>0</td>\n",
       "      <td>0</td>\n",
       "      <td>0</td>\n",
       "    </tr>\n",
       "    <tr>\n",
       "      <th>4</th>\n",
       "      <td>5</td>\n",
       "      <td>35</td>\n",
       "      <td>8</td>\n",
       "      <td>45</td>\n",
       "      <td>91330</td>\n",
       "      <td>4</td>\n",
       "      <td>1.0</td>\n",
       "      <td>2</td>\n",
       "      <td>0</td>\n",
       "      <td>0</td>\n",
       "      <td>0</td>\n",
       "      <td>0</td>\n",
       "      <td>0</td>\n",
       "      <td>1</td>\n",
       "    </tr>\n",
       "  </tbody>\n",
       "</table>\n",
       "</div>"
      ],
      "text/plain": [
       "   ID  Age  Experience  Income  ZIP Code  Family  CCAvg  Education  Mortgage  \\\n",
       "0   1   25           1      49     91107       4    1.6          1         0   \n",
       "1   2   45          19      34     90089       3    1.5          1         0   \n",
       "2   3   39          15      11     94720       1    1.0          1         0   \n",
       "3   4   35           9     100     94112       1    2.7          2         0   \n",
       "4   5   35           8      45     91330       4    1.0          2         0   \n",
       "\n",
       "   Personal Loan  Securities Account  CD Account  Online  CreditCard  \n",
       "0              0                   1           0       0           0  \n",
       "1              0                   1           0       0           0  \n",
       "2              0                   0           0       0           0  \n",
       "3              0                   0           0       0           0  \n",
       "4              0                   0           0       0           1  "
      ]
     },
     "execution_count": 2,
     "metadata": {},
     "output_type": "execute_result"
    }
   ],
   "source": [
    "univ_df=pd.read_csv(\"UniversalBank.csv\")\n",
    "univ_df.head()"
   ]
  },
  {
   "cell_type": "markdown",
   "id": "cb3a1e5c",
   "metadata": {},
   "source": [
    "# Creating a pivot table for training data "
   ]
  },
  {
   "cell_type": "code",
   "execution_count": 3,
   "id": "d42e8de6",
   "metadata": {},
   "outputs": [
    {
     "name": "stdout",
     "output_type": "stream",
     "text": [
      "                          Online\n",
      "CreditCard Personal Loan        \n",
      "0          0                1893\n",
      "           1                 209\n",
      "1          0                 800\n",
      "           1                  82\n"
     ]
    }
   ],
   "source": [
    "Total_byCell = pd.pivot_table(univ_df, index = ['CreditCard','Personal Loan'], values = 'Online', aggfunc = 'sum')\n",
    "\n",
    "print(Total_byCell)"
   ]
  },
  {
   "attachments": {},
   "cell_type": "markdown",
   "id": "4e0b7145",
   "metadata": {},
   "source": [
    "Count of ID\t\t\t\t           Online\t\t\t\n",
    "Credit Card\t\tPersonal Loan\t\t0\t         1\t                Grand Total\t\n",
    "0\t\t\t\t\t  0              769        1163\t               1932\t\n",
    "\t\t\t\t\t  1              71         129\t                    200\n",
    "\t\t\t\t\t\t\t\n",
    "0 Total\t\t\t\t                 840        1292\t               2132\t\n",
    "1\t       \t\t      0              321\t     461\t                782\t\n",
    "\t\t              1\t\t          36\t      50\t                 86\t\n",
    "\t\t\t\t\t\t\t\n",
    "1 Total\t\t\t\t                 357\t      511\t                868\t\n",
    "Grand Total\t\t\t\t            1197\t     1803\t               3000\t\n"
   ]
  },
  {
   "cell_type": "markdown",
   "id": "47d63fe3",
   "metadata": {},
   "source": [
    "# Probability that this customer will accept the loan\n"
   ]
  },
  {
   "cell_type": "markdown",
   "id": "3d7daaf5",
   "metadata": {},
   "source": [
    "# There are in total 511 records where online = 1 , and CrediCard = 1 ; we have 50 of them who accepted the loan , therefore the conditional probility is 50/511 = 0.0978"
   ]
  },
  {
   "cell_type": "markdown",
   "id": "3a38f5bc",
   "metadata": {},
   "source": [
    "# Creating two pivot table "
   ]
  },
  {
   "attachments": {
    "image.png": {
     "image/png": "[encoded data removed]"
    }
   },
   "cell_type": "markdown",
   "id": "d84068ec",
   "metadata": {},
   "source": [
    "Count Of ID\t\tOnline\t\t\t\n",
    "Personal Loan\t\t0\t1\tGrand Total\t\n",
    "0\t\t1090\t1624\t2714\t\n",
    "1\t\t107\t179\t286\t\n",
    "Grand Total\t\t1197\t1803\t3000\t\n",
    "0\t\t321\t461\t782\t\n",
    "1\t\t36\t50\t86\t\n",
    "\t\t\t\t\t\n",
    "Count of ID\t\tCreditCard\t\t\t\n",
    "Personal Loan\t\t0\t1\tGrand Total\t\n",
    "0\t\t1932\t782\t2714\t\n",
    "1\t\t200\t86\t286\t\n",
    "Grand Total\t\t2132\t868\t3000\t\n",
    "![image.png](attachment:image.png)"
   ]
  },
  {
   "cell_type": "markdown",
   "id": "7002665d",
   "metadata": {},
   "source": [
    "# Compute the following quantities [P(A | B) means “the probability ofA given B”]"
   ]
  },
  {
   "cell_type": "markdown",
   "id": "b9434daf",
   "metadata": {},
   "source": [
    "i.    P(CC = 1|Loan=1) ( the proportion of credit card holders among the loan acceptors)\n",
    "      = 86/286 = 0.301\n",
    "ii.   P(Online = 1|Loan = 1)\n",
    "      = 179/286= 0.626\n",
    "iii.  P(Loan = 1)(the proportion of loan acceptors)\n",
    "      = 286/3000= 0.095\n",
    "iv.   P(CC = 1|Loan = 0)\n",
    "      = 782/2714= 0.288\n",
    "v.    P(Online= 1|Loan=0)\n",
    "      = 1624/2714 = 0.598\n",
    "vi.   =P(Loan= 0)\n",
    "      2714/3000 = 0.905"
   ]
  },
  {
   "cell_type": "markdown",
   "id": "0496e17f",
   "metadata": {},
   "source": [
    "# Use the quantities computed above to compute the naive Bayes probability P(Loan = 1 | CC=1 , Online = 1) "
   ]
  },
  {
   "cell_type": "markdown",
   "id": "a71b0343",
   "metadata": {},
   "source": [
    "=(0.301*0.626*0.095)/[(0.30*0.626*0.095)+(0.288*0.598*0.905)]\n",
    "= 0.0179/(0.0179+0.156)\n",
    "= 0.0179/0.1738\n",
    "= 0.103"
   ]
  },
  {
   "cell_type": "markdown",
   "id": "dd8ec388",
   "metadata": {},
   "source": [
    "# Compare this value with the one obtained from the pivot table in (B). Which is a more accurate estimate?"
   ]
  },
  {
   "cell_type": "markdown",
   "id": "d760b91a",
   "metadata": {},
   "source": [
    "The value from the crossed pivot table is the more accurate estimate.The value doesnt require or make a simplifying assumption that the probabilities of taking a loan as a CreditCard holder and at the same time an online customers are run independently. That value from the crossed pivot was able to be obtained because of the few variables and few categories added to be considered. Therefore the result is given with plenty of combinations possible to achieve the most accurate estimation"
   ]
  },
  {
   "cell_type": "markdown",
   "id": "9faafa06",
   "metadata": {},
   "source": [
    "# Which of the entries in this table are needed for computing P(Loan = 1 | CC = 1, Online = 1)? Run naive Bayes on the data. Examine the model output on training data, and find the entry that corresponds to P(Loan = 1 | CC = 1, Online = 1). Compare this to the number you obtained in (E)"
   ]
  },
  {
   "cell_type": "markdown",
   "id": "2d4da10f",
   "metadata": {},
   "source": [
    "P(Loan=1|CC=1, Online=1) can be seen in the detailed scoring for the training data on any line where CreditCard= 1 and Online= 1"
   ]
  },
  {
   "cell_type": "code",
   "execution_count": null,
   "id": "10e79395",
   "metadata": {},
   "outputs": [],
   "source": []
  }
 ],
 "metadata": {
  "kernelspec": {
   "display_name": "Python 3",
   "language": "python",
   "name": "python3"
  },
  "language_info": {
   "codemirror_mode": {
    "name": "ipython",
    "version": 3
   },
   "file_extension": ".py",
   "mimetype": "text/x-python",
   "name": "python",
   "nbconvert_exporter": "python",
   "pygments_lexer": "ipython3",
   "version": "3.8.8"
  }
 },
 "nbformat": 4,
 "nbformat_minor": 5
}
